{
 "cells": [
  {
   "cell_type": "code",
   "execution_count": 4,
   "metadata": {},
   "outputs": [],
   "source": [
    "# Task 1\n",
    "import os\n",
    "import random\n",
    "\n",
    "\n",
    "for char in range(65, 91):  \n",
    "    filename = f\"{chr(char)}.txt\"\n",
    "    with open(filename, 'w') as f:\n",
    "        number = random.randint(1, 100)\n",
    "        f.write(str(number))\n",
    "\n",
    "\n",
    "with open(\"summary.txt\", 'w') as summary:\n",
    "    for char in range(65, 91):\n",
    "        filename = f\"{chr(char)}.txt\"\n",
    "        with open(filename, 'r') as f:\n",
    "            number = f.read()\n",
    "            summary.write(f\"{filename}: {number}\\n\")\n"
   ]
  },
  {
   "cell_type": "code",
   "execution_count": 5,
   "metadata": {},
   "outputs": [],
   "source": [
    "\n",
    "#Task 2\n",
    "with open('original.txt', 'w') as file:\n",
    "    file.write(\"Messi just won an 8th Ballon d'Or, which solidified his legacy as the best player to play this century and gave weight to a stance that he is the GOAT.\")\n",
    "\n",
    "\n",
    "with open('original.txt', 'r') as file:\n",
    "    content = file.read()\n",
    "\n",
    "\n",
    "content_upper = content.upper()\n",
    "\n",
    "\n",
    "with open('modified.txt', 'w') as file:\n",
    "    file.write(content_upper)\n",
    "\n"
   ]
  },
  {
   "cell_type": "code",
   "execution_count": null,
   "metadata": {},
   "outputs": [],
   "source": [
    "#Task 3\n",
    "\n",
    "import csv\n",
    "import random\n",
    "\n",
    "\n",
    "players = [\"Josh\", \"Luke\", \"Kate\", \"Mark\", \"Mary\"]\n",
    "\n",
    "\n",
    "def simulate_round():\n",
    "    return random.randint(0, 1000)\n",
    "\n",
    "\n",
    "results = []\n",
    "for player in players:\n",
    "    for _ in range(100):\n",
    "        score = simulate_round()\n",
    "        results.append((player, score))\n",
    "\n",
    "\n",
    "with open(\"game_scores_upd.csv\", \"w\", newline='') as file:\n",
    "    writer = csv.writer(file, delimiter=';')\n",
    "    writer.writerow([\"Player name\", \"Score\"])  # Write header\n",
    "    for result in results:\n",
    "        writer.writerow(result)\n"
   ]
  },
  {
   "cell_type": "code",
   "execution_count": 1,
   "metadata": {},
   "outputs": [
    {
     "ename": "FileNotFoundError",
     "evalue": "[Errno 2] No such file or directory: 'game_scores_upd.csv'",
     "output_type": "error",
     "traceback": [
      "\u001b[1;31m---------------------------------------------------------------------------\u001b[0m",
      "\u001b[1;31mFileNotFoundError\u001b[0m                         Traceback (most recent call last)",
      "\u001b[1;32mc:\\Users\\DKH\\OneDrive - Motivaction\\Bureaublad\\Python Homework\\Assignment 13.ipynb Cell 4\u001b[0m line \u001b[0;36m1\n\u001b[0;32m      <a href='vscode-notebook-cell:/c%3A/Users/DKH/OneDrive%20-%20Motivaction/Bureaublad/Python%20Homework/Assignment%2013.ipynb#W4sZmlsZQ%3D%3D?line=5'>6</a>\u001b[0m input_filename \u001b[39m=\u001b[39m \u001b[39m'\u001b[39m\u001b[39mgame_scores_upd.csv\u001b[39m\u001b[39m'\u001b[39m\n\u001b[0;32m      <a href='vscode-notebook-cell:/c%3A/Users/DKH/OneDrive%20-%20Motivaction/Bureaublad/Python%20Homework/Assignment%2013.ipynb#W4sZmlsZQ%3D%3D?line=6'>7</a>\u001b[0m high_scores \u001b[39m=\u001b[39m defaultdict(\u001b[39mint\u001b[39m)\n\u001b[1;32m---> <a href='vscode-notebook-cell:/c%3A/Users/DKH/OneDrive%20-%20Motivaction/Bureaublad/Python%20Homework/Assignment%2013.ipynb#W4sZmlsZQ%3D%3D?line=9'>10</a>\u001b[0m \u001b[39mwith\u001b[39;00m \u001b[39mopen\u001b[39;49m(input_filename, mode\u001b[39m=\u001b[39;49m\u001b[39m'\u001b[39;49m\u001b[39mr\u001b[39;49m\u001b[39m'\u001b[39;49m, newline\u001b[39m=\u001b[39;49m\u001b[39m'\u001b[39;49m\u001b[39m'\u001b[39;49m, encoding\u001b[39m=\u001b[39;49m\u001b[39m'\u001b[39;49m\u001b[39mutf-8\u001b[39;49m\u001b[39m'\u001b[39;49m) \u001b[39mas\u001b[39;00m file:\n\u001b[0;32m     <a href='vscode-notebook-cell:/c%3A/Users/DKH/OneDrive%20-%20Motivaction/Bureaublad/Python%20Homework/Assignment%2013.ipynb#W4sZmlsZQ%3D%3D?line=10'>11</a>\u001b[0m     reader \u001b[39m=\u001b[39m csv\u001b[39m.\u001b[39mreader(file, delimiter\u001b[39m=\u001b[39m\u001b[39m'\u001b[39m\u001b[39m;\u001b[39m\u001b[39m'\u001b[39m)\n\u001b[0;32m     <a href='vscode-notebook-cell:/c%3A/Users/DKH/OneDrive%20-%20Motivaction/Bureaublad/Python%20Homework/Assignment%2013.ipynb#W4sZmlsZQ%3D%3D?line=11'>12</a>\u001b[0m     headers \u001b[39m=\u001b[39m \u001b[39mnext\u001b[39m(reader)\n",
      "File \u001b[1;32m~\\AppData\\Roaming\\Python\\Python311\\site-packages\\IPython\\core\\interactiveshell.py:286\u001b[0m, in \u001b[0;36m_modified_open\u001b[1;34m(file, *args, **kwargs)\u001b[0m\n\u001b[0;32m    279\u001b[0m \u001b[39mif\u001b[39;00m file \u001b[39min\u001b[39;00m {\u001b[39m0\u001b[39m, \u001b[39m1\u001b[39m, \u001b[39m2\u001b[39m}:\n\u001b[0;32m    280\u001b[0m     \u001b[39mraise\u001b[39;00m \u001b[39mValueError\u001b[39;00m(\n\u001b[0;32m    281\u001b[0m         \u001b[39mf\u001b[39m\u001b[39m\"\u001b[39m\u001b[39mIPython won\u001b[39m\u001b[39m'\u001b[39m\u001b[39mt let you open fd=\u001b[39m\u001b[39m{\u001b[39;00mfile\u001b[39m}\u001b[39;00m\u001b[39m by default \u001b[39m\u001b[39m\"\u001b[39m\n\u001b[0;32m    282\u001b[0m         \u001b[39m\"\u001b[39m\u001b[39mas it is likely to crash IPython. If you know what you are doing, \u001b[39m\u001b[39m\"\u001b[39m\n\u001b[0;32m    283\u001b[0m         \u001b[39m\"\u001b[39m\u001b[39myou can use builtins\u001b[39m\u001b[39m'\u001b[39m\u001b[39m open.\u001b[39m\u001b[39m\"\u001b[39m\n\u001b[0;32m    284\u001b[0m     )\n\u001b[1;32m--> 286\u001b[0m \u001b[39mreturn\u001b[39;00m io_open(file, \u001b[39m*\u001b[39;49margs, \u001b[39m*\u001b[39;49m\u001b[39m*\u001b[39;49mkwargs)\n",
      "\u001b[1;31mFileNotFoundError\u001b[0m: [Errno 2] No such file or directory: 'game_scores_upd.csv'"
     ]
    }
   ],
   "source": [
    "# Task 4\n",
    "import csv\n",
    "from collections import defaultdict\n",
    "\n",
    "\n",
    "input_filename = 'game_scores_upd.csv'\n",
    "high_scores = defaultdict(int)\n",
    "\n",
    "\n",
    "with open(input_filename, mode='r', newline='', encoding='utf-8') as file:\n",
    "    reader = csv.reader(file, delimiter=';')\n",
    "    headers = next(reader)\n",
    "    print(\"Headers:\", headers)  \n",
    "\n",
    "\n",
    "with open(input_filename, mode='r', newline='', encoding='utf-8') as file:\n",
    "    csv_reader = csv.DictReader(file, delimiter=';')\n",
    "    for row in csv_reader:\n",
    "        \n",
    "        player = row['Player name'].strip()\n",
    "        score = int(row['Score'].strip())  \n",
    "        if score > high_scores[player]:\n",
    "            high_scores[player] = score\n",
    "\n",
    "\n",
    "sorted_high_scores = sorted(high_scores.items(), key=lambda item: item[1], reverse=True)\n",
    "\n",
    "\n",
    "output_filename = 'high_scores.csv'\n",
    "with open(output_filename, mode='w', newline='', encoding='utf-8') as file:\n",
    "    csv_writer = csv.writer(file, delimiter=';')\n",
    "   \n",
    "    csv_writer.writerow(['Player name', 'Highest score'])\n",
    "    \n",
    "    for player, score in sorted_high_scores:\n",
    "        csv_writer.writerow([player, score])\n",
    "\n",
    "print(f\"'{output_filename}' created successfully.\")\n"
   ]
  }
 ],
 "metadata": {
  "kernelspec": {
   "display_name": "Python 3",
   "language": "python",
   "name": "python3"
  },
  "language_info": {
   "codemirror_mode": {
    "name": "ipython",
    "version": 3
   },
   "file_extension": ".py",
   "mimetype": "text/x-python",
   "name": "python",
   "nbconvert_exporter": "python",
   "pygments_lexer": "ipython3",
   "version": "3.11.1"
  }
 },
 "nbformat": 4,
 "nbformat_minor": 2
}
